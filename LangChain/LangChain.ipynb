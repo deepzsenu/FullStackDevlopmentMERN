{
 "cells": [
  {
   "cell_type": "code",
   "execution_count": 1,
   "id": "9324eb29-94e2-4f95-9e25-f2c3d79a0318",
   "metadata": {},
   "outputs": [],
   "source": [
    "import openai\n",
    "from langchain.llms import OpenAI\n",
    "from langchain.chains import SequentialChain, SimpleSequentialChain, ConversationChain, LLMChain\n",
    "from langchain.prompts import PromptTemplate\n",
    "from langchain.agents import AgentType, initialize_agent, load_tools\n",
    "from langchain.memory import ConversationBufferWindowMemory, ConversationBufferMemory\n",
    "\n",
    "# other imports\n",
    "from secret import API_KEY\n",
    "# import os"
   ]
  },
  {
   "cell_type": "markdown",
   "id": "9bd0eae1-bc96-43d6-94e3-4df47741ced2",
   "metadata": {},
   "source": [
    "#### Basic llms longchain"
   ]
  },
  {
   "cell_type": "code",
   "execution_count": 2,
   "id": "b9135478-b249-48fa-b60f-72b067754fc5",
   "metadata": {},
   "outputs": [
    {
     "name": "stdout",
     "output_type": "stream",
     "text": [
      "The basic of programming is to create instructions that a computer can understand and execute. This involves writing code in a programming language, such as C++, Java, Python, etc. Programming involves problem solving, designing algorithms, and creating software applications.\n"
     ]
    }
   ],
   "source": [
    "llm = OpenAI(openai_api_key = API_KEY,temperature=0.3)\n",
    "answer = llm.predict(\"What is the basic of Programming?\")\n",
    "print(answer.strip())"
   ]
  },
  {
   "cell_type": "markdown",
   "id": "c8033459-ffd8-40a2-b805-5d752d6db8b1",
   "metadata": {},
   "source": [
    "#### Simple Sequential chains"
   ]
  },
  {
   "cell_type": "code",
   "execution_count": 3,
   "id": "29745e6e-1ffd-4dfb-aa7c-323b456ab78a",
   "metadata": {},
   "outputs": [
    {
     "name": "stdin",
     "output_type": "stream",
     "text": [
      "Enter the Name of the city:  Ranikhet\n"
     ]
    },
    {
     "name": "stdout",
     "output_type": "stream",
     "text": [
      "\n",
      "\n",
      "Ranikhet is a hill station located in the Almora district of Uttarakhand, India. It is situated at an altitude of 1869 meters above sea level and is surrounded by the majestic Himalayan ranges. Ranikhet is known for its natural beauty and serene atmosphere, making it a popular tourist destination. The town is home to a number of attractions, including the Jhula Devi Temple, Chaubatia Orchards, Kalika Temple, and Kumaon Regimental Centre Museum. Ranikhet is also known for its lush green forests, which are home to a variety of flora and fauna. The town is also known for its pleasant climate, making it a great place to visit during the summer months.\n"
     ]
    }
   ],
   "source": [
    "#chain1\n",
    "\n",
    "template = \"\"\"\n",
    "        Write a short Answer the city\n",
    "        {city}\n",
    "        Write about the city \"\"\"\n",
    "\n",
    "prompt_city = PromptTemplate(template = template , input_variables = [\"city\"])\n",
    "\n",
    "aboutcity = LLMChain(llm= llm, prompt=prompt_city)\n",
    "\n",
    "city = input(\"Enter the Name of the city: \")\n",
    "\n",
    "print(aboutcity.run(city))"
   ]
  },
  {
   "cell_type": "code",
   "execution_count": null,
   "id": "6feeca60-8f69-4e94-adde-e33db42eb6c0",
   "metadata": {},
   "outputs": [],
   "source": [
    "template = \"\"\"\n",
    "        Using the above information \n",
    "        {information}\n",
    "        write a review about the city\"\"\"\n",
    "\n",
    "prompt_review = PromptTemplate(template= template, input_variables=[\"information\"])\n",
    "\n",
    "aboutreview = LLMChain(llm= llm , prompt = prompt_review)\n",
    "aboutreview_chain = SimpleSequentialChain(\n",
    "    chains = [aboutcity, aboutreview]\n",
    ")\n",
    "\n",
    "aboutreview_chain.run(city)"
   ]
  },
  {
   "cell_type": "markdown",
   "id": "97d2671d-4411-4879-b851-d5bfa01e0e3b",
   "metadata": {},
   "source": [
    "#### Simple Sequence Model\n"
   ]
  },
  {
   "cell_type": "code",
   "execution_count": 5,
   "id": "97f444d8-f242-4661-add9-24b630288ebc",
   "metadata": {},
   "outputs": [],
   "source": [
    "\n",
    "template = \"\"\"\n",
    "        Write a short Answer the city\n",
    "        {city}\n",
    "        Write about the city \"\"\"\n",
    "\n",
    "prompt_city = PromptTemplate(template = template , input_variables = [\"city\"])\n",
    "\n",
    "aboutcity = LLMChain(llm= llm, prompt=prompt_city, output_key = \"about city\")\n",
    "\n",
    "# city = input(\"Enter the Name of the city: \")"
   ]
  },
  {
   "cell_type": "code",
   "execution_count": 6,
   "id": "65577e2d-9642-4af3-bd70-5d63fdfdddc0",
   "metadata": {},
   "outputs": [],
   "source": [
    "template = \"\"\"\n",
    "        Using the above information \n",
    "        {about city}\n",
    "        write a review about the city\"\"\"\n",
    "\n",
    "prompt_review = PromptTemplate(template= template, input_variables=[\"about city\"])\n",
    "\n",
    "aboutreview = LLMChain(llm= llm , prompt = prompt_review, output_key = \"city review\")"
   ]
  },
  {
   "cell_type": "code",
   "execution_count": 7,
   "id": "5f9d9028-2b72-4cbe-a587-084f38bd91dc",
   "metadata": {},
   "outputs": [],
   "source": [
    "final_chain = SequentialChain(\n",
    "    chains = [aboutcity, aboutreview],\n",
    "    input_variables = [\"city\"],\n",
    "    output_variables = [\"about city\", \"city review\"]\n",
    ")"
   ]
  },
  {
   "cell_type": "code",
   "execution_count": 8,
   "id": "339a9d9d-e41a-429c-83bd-b24acb93138a",
   "metadata": {},
   "outputs": [
    {
     "name": "stdin",
     "output_type": "stream",
     "text": [
      "Enter the Name of the city:  Ranikhet\n"
     ]
    },
    {
     "name": "stderr",
     "output_type": "stream",
     "text": [
      "Retrying langchain.llms.openai.completion_with_retry.<locals>._completion_with_retry in 4.0 seconds as it raised RateLimitError: Rate limit reached for default-text-davinci-003 in organization org-UFGZMEi4NHNnGaGhRr2ktrDt on requests per min. Limit: 3 / min. Please try again in 20s. Contact us through our help center at help.openai.com if you continue to have issues. Please add a payment method to your account to increase your rate limit. Visit https://platform.openai.com/account/billing to add a payment method..\n",
      "Retrying langchain.llms.openai.completion_with_retry.<locals>._completion_with_retry in 4.0 seconds as it raised RateLimitError: Rate limit reached for default-text-davinci-003 in organization org-UFGZMEi4NHNnGaGhRr2ktrDt on requests per min. Limit: 3 / min. Please try again in 20s. Contact us through our help center at help.openai.com if you continue to have issues. Please add a payment method to your account to increase your rate limit. Visit https://platform.openai.com/account/billing to add a payment method..\n",
      "Retrying langchain.llms.openai.completion_with_retry.<locals>._completion_with_retry in 4.0 seconds as it raised RateLimitError: Rate limit reached for default-text-davinci-003 in organization org-UFGZMEi4NHNnGaGhRr2ktrDt on requests per min. Limit: 3 / min. Please try again in 20s. Contact us through our help center at help.openai.com if you continue to have issues. Please add a payment method to your account to increase your rate limit. Visit https://platform.openai.com/account/billing to add a payment method..\n",
      "Retrying langchain.llms.openai.completion_with_retry.<locals>._completion_with_retry in 4.0 seconds as it raised RateLimitError: Rate limit reached for default-text-davinci-003 in organization org-UFGZMEi4NHNnGaGhRr2ktrDt on requests per min. Limit: 3 / min. Please try again in 20s. Contact us through our help center at help.openai.com if you continue to have issues. Please add a payment method to your account to increase your rate limit. Visit https://platform.openai.com/account/billing to add a payment method..\n",
      "Retrying langchain.llms.openai.completion_with_retry.<locals>._completion_with_retry in 8.0 seconds as it raised RateLimitError: Rate limit reached for default-text-davinci-003 in organization org-UFGZMEi4NHNnGaGhRr2ktrDt on requests per min. Limit: 3 / min. Please try again in 20s. Contact us through our help center at help.openai.com if you continue to have issues. Please add a payment method to your account to increase your rate limit. Visit https://platform.openai.com/account/billing to add a payment method..\n"
     ]
    }
   ],
   "source": [
    "city = input(\"Enter the Name of the city: \")\n",
    "text = final_chain({\"city\":city})"
   ]
  },
  {
   "cell_type": "code",
   "execution_count": 9,
   "id": "b922cc52-3190-424f-9491-3198555e9d91",
   "metadata": {},
   "outputs": [
    {
     "name": "stdout",
     "output_type": "stream",
     "text": [
      "Ranikhet\n"
     ]
    }
   ],
   "source": [
    "print(text[\"city\"])"
   ]
  },
  {
   "cell_type": "code",
   "execution_count": 10,
   "id": "bdff2d46-ad03-4200-b585-bc8207faa19f",
   "metadata": {},
   "outputs": [
    {
     "name": "stdout",
     "output_type": "stream",
     "text": [
      "{'city': 'Ranikhet', 'about city': \"\\n\\nRanikhet is a hill station located in the Almora district of Uttarakhand, India. It is situated at an altitude of 1,869 metres (6,132 ft) above sea level and is surrounded by the majestic Himalayan mountain range. It is known for its picturesque views of the snow-capped Himalayas, lush green forests, and serene atmosphere. Ranikhet is also home to the Indian Army's Kumaon Regiment Centre and is a popular tourist destination for its many attractions, including the Jhula Devi Temple, Chaubatia Gardens, and the Haidakhan Babaji Temple.\", 'city review': \"\\n\\nRanikhet is an absolutely breathtaking hill station located in the Almora district of Uttarakhand, India. The views of the snow-capped Himalayas, lush green forests, and serene atmosphere make it a paradise on earth. I was mesmerized by the beauty of the place and felt like I was in a different world. The Jhula Devi Temple, Chaubatia Gardens, and the Haidakhan Babaji Temple are some of the must-visit places in Ranikhet. The Indian Army's Kumaon Regiment Centre is also a great place to visit. All in all, Ranikhet is a perfect destination for a peaceful and relaxing holiday.\"}\n"
     ]
    }
   ],
   "source": [
    "print(text)"
   ]
  },
  {
   "cell_type": "markdown",
   "id": "012ad9e1-92ef-45ae-a079-72f2c5de8dda",
   "metadata": {},
   "source": [
    "#### Agents"
   ]
  },
  {
   "cell_type": "code",
   "execution_count": 11,
   "id": "29215950-34ad-4a61-b403-860e58071b18",
   "metadata": {},
   "outputs": [
    {
     "name": "stdout",
     "output_type": "stream",
     "text": [
      "Requirement already satisfied: wikipedia in /home/deepak/.local/lib/python3.8/site-packages (1.4.0)\n",
      "Requirement already satisfied: requests<3.0.0,>=2.0.0 in /home/deepak/.local/lib/python3.8/site-packages (from wikipedia) (2.31.0)\n",
      "Requirement already satisfied: beautifulsoup4 in /home/deepak/.local/lib/python3.8/site-packages (from wikipedia) (4.12.2)\n",
      "Requirement already satisfied: urllib3<3,>=1.21.1 in /usr/lib/python3/dist-packages (from requests<3.0.0,>=2.0.0->wikipedia) (1.25.8)\n",
      "Requirement already satisfied: idna<4,>=2.5 in /usr/lib/python3/dist-packages (from requests<3.0.0,>=2.0.0->wikipedia) (2.8)\n",
      "Requirement already satisfied: charset-normalizer<4,>=2 in /home/deepak/.local/lib/python3.8/site-packages (from requests<3.0.0,>=2.0.0->wikipedia) (3.2.0)\n",
      "Requirement already satisfied: certifi>=2017.4.17 in /usr/lib/python3/dist-packages (from requests<3.0.0,>=2.0.0->wikipedia) (2019.11.28)\n",
      "Requirement already satisfied: soupsieve>1.2 in /home/deepak/.local/lib/python3.8/site-packages (from beautifulsoup4->wikipedia) (2.4.1)\n"
     ]
    }
   ],
   "source": [
    "!pip install wikipedia"
   ]
  },
  {
   "cell_type": "code",
   "execution_count": null,
   "id": "e567cac6-56c2-474d-aab0-c509aebd00de",
   "metadata": {},
   "outputs": [
    {
     "name": "stderr",
     "output_type": "stream",
     "text": [
      "Retrying langchain.llms.openai.completion_with_retry.<locals>._completion_with_retry in 4.0 seconds as it raised RateLimitError: Rate limit reached for default-text-davinci-003 in organization org-UFGZMEi4NHNnGaGhRr2ktrDt on requests per min. Limit: 3 / min. Please try again in 20s. Contact us through our help center at help.openai.com if you continue to have issues. Please add a payment method to your account to increase your rate limit. Visit https://platform.openai.com/account/billing to add a payment method..\n",
      "Retrying langchain.llms.openai.completion_with_retry.<locals>._completion_with_retry in 4.0 seconds as it raised RateLimitError: Rate limit reached for default-text-davinci-003 in organization org-UFGZMEi4NHNnGaGhRr2ktrDt on requests per min. Limit: 3 / min. Please try again in 20s. Contact us through our help center at help.openai.com if you continue to have issues. Please add a payment method to your account to increase your rate limit. Visit https://platform.openai.com/account/billing to add a payment method..\n"
     ]
    }
   ],
   "source": [
    "tools  = load_tools(['wikipedia', 'llm-math'], llm = llm)\n",
    "agent = initialize_agent(\n",
    "    tools, \n",
    "    llm,\n",
    "    agent = AgentType.ZERO_SHOT_REACT_DESCRIPTION\n",
    "    \n",
    ")\n",
    "\n",
    "agent.run(\"What is the current GDP of India\")"
   ]
  },
  {
   "cell_type": "markdown",
   "id": "43db04d8-dc93-4207-8f05-354bd61937a4",
   "metadata": {},
   "source": [
    "### Memory "
   ]
  },
  {
   "cell_type": "code",
   "execution_count": null,
   "id": "e242e477-cca0-45d3-a6e4-2a52669056d3",
   "metadata": {},
   "outputs": [],
   "source": [
    "memory = ConversationBufferMemory()\n",
    "chain = LLMChain(llm = llm, prompt = PromptTemplate.from_template(\n",
    "    \"What is the fist {game} team to win world cup?\",\n",
    "      \n",
    "    ),\n",
    "    memory = memory,\n",
    ")"
   ]
  },
  {
   "cell_type": "code",
   "execution_count": null,
   "id": "95814ccb-176f-4cd9-8fe5-e37a59c81212",
   "metadata": {},
   "outputs": [],
   "source": [
    "chain.run(\"Cricket\")"
   ]
  },
  {
   "cell_type": "code",
   "execution_count": null,
   "id": "843a9c9e-a577-479a-b0f5-1a2bdecb426e",
   "metadata": {},
   "outputs": [],
   "source": [
    "chain.run(\"Footbal\")"
   ]
  },
  {
   "cell_type": "code",
   "execution_count": null,
   "id": "64c5599e-4a4f-4872-8c56-b9a661e14028",
   "metadata": {},
   "outputs": [],
   "source": [
    "print(chain.memory)"
   ]
  },
  {
   "cell_type": "code",
   "execution_count": null,
   "id": "0e77cb84-4228-43ed-8a65-bf8c1f64240b",
   "metadata": {},
   "outputs": [],
   "source": [
    "print(chain.memory.buffer)"
   ]
  },
  {
   "cell_type": "code",
   "execution_count": null,
   "id": "347ceeb1-a106-4533-97b1-5f62991f434f",
   "metadata": {},
   "outputs": [],
   "source": []
  }
 ],
 "metadata": {
  "kernelspec": {
   "display_name": "Python 3 (ipykernel)",
   "language": "python",
   "name": "python3"
  },
  "language_info": {
   "codemirror_mode": {
    "name": "ipython",
    "version": 3
   },
   "file_extension": ".py",
   "mimetype": "text/x-python",
   "name": "python",
   "nbconvert_exporter": "python",
   "pygments_lexer": "ipython3",
   "version": "3.8.10"
  }
 },
 "nbformat": 4,
 "nbformat_minor": 5
}
