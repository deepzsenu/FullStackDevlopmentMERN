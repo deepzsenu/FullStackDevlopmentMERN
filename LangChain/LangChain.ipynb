{
 "cells": [
  {
   "cell_type": "code",
   "execution_count": 5,
   "id": "9324eb29-94e2-4f95-9e25-f2c3d79a0318",
   "metadata": {},
   "outputs": [],
   "source": [
    "import openai\n",
    "from langchain.llms import OpenAI\n",
    "from langchain.chains import SequentialChain, SimpleSequentialChain, ConversationChain, LLMChain\n",
    "from langchain.prompts import PromptTemplate\n",
    "from langchain.agents import AgentType, initialize_agent, load_tools\n",
    "from langchain.memory import ConversationBufferWindowMemory, ConversationBufferMemory\n",
    "\n",
    "# other imports\n",
    "from secret import API_KEY\n",
    "# import os"
   ]
  },
  {
   "cell_type": "markdown",
   "id": "9bd0eae1-bc96-43d6-94e3-4df47741ced2",
   "metadata": {},
   "source": [
    "#### Basic llms longchain"
   ]
  },
  {
   "cell_type": "code",
   "execution_count": 11,
   "id": "b9135478-b249-48fa-b60f-72b067754fc5",
   "metadata": {},
   "outputs": [
    {
     "name": "stdout",
     "output_type": "stream",
     "text": [
      "The basic of programming is the ability to write code that can be used to create programs, applications, and websites. It involves writing code in a specific language, such as C++, Java, or Python, and using it to create a program that can be used to perform a specific task.\n"
     ]
    }
   ],
   "source": [
    "llm = OpenAI(openai_api_key = API_KEY,temperature=0.3)\n",
    "answer = llm.predict(\"What is the basic of Programming?\")\n",
    "print(answer.strip())"
   ]
  },
  {
   "cell_type": "code",
   "execution_count": null,
   "id": "503d7278-f23f-410a-ac54-ddd89f2d184c",
   "metadata": {},
   "outputs": [],
   "source": []
  }
 ],
 "metadata": {
  "kernelspec": {
   "display_name": "Python 3 (ipykernel)",
   "language": "python",
   "name": "python3"
  },
  "language_info": {
   "codemirror_mode": {
    "name": "ipython",
    "version": 3
   },
   "file_extension": ".py",
   "mimetype": "text/x-python",
   "name": "python",
   "nbconvert_exporter": "python",
   "pygments_lexer": "ipython3",
   "version": "3.8.10"
  }
 },
 "nbformat": 4,
 "nbformat_minor": 5
}
