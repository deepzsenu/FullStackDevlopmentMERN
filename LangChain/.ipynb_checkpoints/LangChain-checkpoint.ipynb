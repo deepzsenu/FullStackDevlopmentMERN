{
 "cells": [
  {
   "cell_type": "code",
   "execution_count": 1,
   "id": "9324eb29-94e2-4f95-9e25-f2c3d79a0318",
   "metadata": {},
   "outputs": [],
   "source": [
    "import openai\n",
    "from langchain.llms import OpenAI\n",
    "from langchain.chains import Seque"
   ]
  },
  {
   "cell_type": "code",
   "execution_count": null,
   "id": "06484ec8-0162-4985-8d72-763e403edc92",
   "metadata": {},
   "outputs": [],
   "source": []
  },
  {
   "cell_type": "code",
   "execution_count": null,
   "id": "b9135478-b249-48fa-b60f-72b067754fc5",
   "metadata": {},
   "outputs": [],
   "source": []
  }
 ],
 "metadata": {
  "kernelspec": {
   "display_name": "Python 3 (ipykernel)",
   "language": "python",
   "name": "python3"
  },
  "language_info": {
   "codemirror_mode": {
    "name": "ipython",
    "version": 3
   },
   "file_extension": ".py",
   "mimetype": "text/x-python",
   "name": "python",
   "nbconvert_exporter": "python",
   "pygments_lexer": "ipython3",
   "version": "3.8.10"
  }
 },
 "nbformat": 4,
 "nbformat_minor": 5
}
